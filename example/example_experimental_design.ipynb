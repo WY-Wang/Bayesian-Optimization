{
 "cells": [
  {
   "cell_type": "code",
   "execution_count": 1,
   "metadata": {},
   "outputs": [],
   "source": [
    "import torch\n",
    "import matplotlib.pyplot as plt\n",
    "\n",
    "from BayesianOpt.utils import tkwargs\n",
    "from BayesianOpt.design import LatinHypercubeDesign, RandomizedDesign, QuasiMCDesign"
   ]
  },
  {
   "cell_type": "code",
   "execution_count": 2,
   "metadata": {},
   "outputs": [
    {
     "name": "stdout",
     "output_type": "stream",
     "text": [
      "{'dtype': torch.float64, 'device': device(type='cpu')}\n"
     ]
    },
    {
     "data": {
      "text/plain": [
       "<torch._C.Generator at 0x107a92dd0>"
      ]
     },
     "execution_count": 2,
     "metadata": {},
     "output_type": "execute_result"
    }
   ],
   "source": [
    "print(tkwargs)\n",
    "\n",
    "RANDOM_SEED = 47\n",
    "torch.manual_seed(RANDOM_SEED)"
   ]
  },
  {
   "cell_type": "code",
   "execution_count": 3,
   "metadata": {},
   "outputs": [],
   "source": [
    "N_DIM = 2\n",
    "LOWER = torch.zeros(N_DIM, **tkwargs)\n",
    "UPPER = torch.ones(N_DIM, **tkwargs)\n",
    "\n",
    "design = QuasiMCDesign(\n",
    "    ndim=N_DIM,\n",
    "    lb=LOWER,\n",
    "    ub=UPPER,\n",
    "    random_state=RANDOM_SEED,\n",
    ")"
   ]
  },
  {
   "cell_type": "code",
   "execution_count": 4,
   "metadata": {},
   "outputs": [
    {
     "data": {
      "image/png": "[encoded data removed]",
      "text/plain": [
       "<Figure size 400x300 with 1 Axes>"
      ]
     },
     "metadata": {},
     "output_type": "display_data"
    }
   ],
   "source": [
    "fig, axes = plt.subplots(1, 1, figsize=(4, 3))\n",
    "\n",
    "samples = design.generate_points(npts=10)\n",
    "axes.plot(samples[:, 0].numpy(), samples[:, 1].numpy(), \"ko\")\n",
    "\n",
    "samples = design.generate_points(npts=20)\n",
    "axes.plot(samples[:, 0].numpy(), samples[:, 1].numpy(), \"b*\")\n",
    "\n",
    "plt.show()"
   ]
  },
  {
   "cell_type": "code",
   "execution_count": null,
   "metadata": {},
   "outputs": [],
   "source": []
  }
 ],
 "metadata": {
  "kernelspec": {
   "display_name": "Python 3 (ipykernel)",
   "language": "python",
   "name": "python3"
  },
  "language_info": {
   "codemirror_mode": {
    "name": "ipython",
    "version": 3
   },
   "file_extension": ".py",
   "mimetype": "text/x-python",
   "name": "python",
   "nbconvert_exporter": "python",
   "pygments_lexer": "ipython3",
   "version": "3.10.8"
  }
 },
 "nbformat": 4,
 "nbformat_minor": 4
}
